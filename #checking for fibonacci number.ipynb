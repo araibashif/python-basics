{
 "cells": [
  {
   "cell_type": "code",
   "execution_count": 15,
   "metadata": {},
   "outputs": [],
   "source": [
    "#checking for fibonacci number\n"
   ]
  },
  {
   "cell_type": "code",
   "execution_count": 24,
   "metadata": {},
   "outputs": [
    {
     "name": "stdout",
     "output_type": "stream",
     "text": [
      "1 it is febonacci\n",
      "2 it is febonacci\n",
      "3 it is febonacci\n",
      "4 not fibonacci\n",
      "5 it is febonacci\n",
      "6 not fibonacci\n",
      "7 not fibonacci\n",
      "8 it is febonacci\n",
      "9 not fibonacci\n",
      "10 not fibonacci\n",
      "11 not fibonacci\n"
     ]
    }
   ],
   "source": [
    "import math\n",
    "\n",
    "def isPerfectSquare(x):\n",
    "    s =int(math.sqrt(x))\n",
    "    return s*s== x\n",
    "def isFebonacci(n):\n",
    "        return isPerfectSquare(5*n*n+4) or isPerfectSquare(5*n*n-4)\n",
    "for i  in range(1,12):\n",
    "    if(isFebonacci(i)==True):\n",
    "        print(i,\"it is febonacci\")\n",
    "    else:\n",
    "        print(i,\"not fibonacci\")"
   ]
  }
 ],
 "metadata": {
  "kernelspec": {
   "display_name": "Python 3",
   "language": "python",
   "name": "python3"
  },
  "language_info": {
   "codemirror_mode": {
    "name": "ipython",
    "version": 3
   },
   "file_extension": ".py",
   "mimetype": "text/x-python",
   "name": "python",
   "nbconvert_exporter": "python",
   "pygments_lexer": "ipython3",
   "version": "3.7.6"
  }
 },
 "nbformat": 4,
 "nbformat_minor": 4
}
