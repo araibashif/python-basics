{
 "cells": [
  {
   "cell_type": "code",
   "execution_count": 1,
   "metadata": {},
   "outputs": [],
   "source": [
    "class Vehical:\n",
    "    def __init__(self,mileage,cost):\n",
    "        self.mileage = mileage\n",
    "        self.cost = cost\n",
    "    def show_vehical_details(self):\n",
    "        print(\"vecical mileage\",self.mileage)\n",
    "        print(\"vehical cost\",self.cost)\n",
    "        print(\"this is a vehical\")"
   ]
  },
  {
   "cell_type": "code",
   "execution_count": 2,
   "metadata": {},
   "outputs": [],
   "source": [
    "s1 = Vehical(52,79008)"
   ]
  },
  {
   "cell_type": "code",
   "execution_count": 22,
   "metadata": {},
   "outputs": [],
   "source": [
    "class Car(Vehical):\n",
    "    def __init__(self,mileage,cost,tires,hp):\n",
    "        super().__init__(mileage,cost)\n",
    "        self.tires = tires\n",
    "        self.hp = hp\n",
    "    \n",
    "    def show_car_details(self):\n",
    "        print(\"i am a car\")\n",
    "        print(\"horse power of a car :\",self.hp)\n",
    "        print(\"tires in vehical:\",self.tires)\n",
    "        "
   ]
  },
  {
   "cell_type": "code",
   "execution_count": 26,
   "metadata": {},
   "outputs": [],
   "source": [
    "s2 = Car(18,605000,4,1200)"
   ]
  },
  {
   "cell_type": "code",
   "execution_count": 27,
   "metadata": {},
   "outputs": [
    {
     "name": "stdout",
     "output_type": "stream",
     "text": [
      "i am a car\n",
      "horse power of a car : 1200\n",
      "tires in vehical: 4\n"
     ]
    }
   ],
   "source": [
    "s2.show_car_details()"
   ]
  },
  {
   "cell_type": "code",
   "execution_count": 29,
   "metadata": {},
   "outputs": [
    {
     "name": "stdout",
     "output_type": "stream",
     "text": [
      "vecical mileage 18\n",
      "vehical cost 605000\n",
      "this is a vehical\n"
     ]
    }
   ],
   "source": [
    "s2.show_vehical_details()"
   ]
  },
  {
   "cell_type": "code",
   "execution_count": null,
   "metadata": {},
   "outputs": [],
   "source": []
  }
 ],
 "metadata": {
  "kernelspec": {
   "display_name": "Python 3",
   "language": "python",
   "name": "python3"
  },
  "language_info": {
   "codemirror_mode": {
    "name": "ipython",
    "version": 3
   },
   "file_extension": ".py",
   "mimetype": "text/x-python",
   "name": "python",
   "nbconvert_exporter": "python",
   "pygments_lexer": "ipython3",
   "version": "3.7.6"
  }
 },
 "nbformat": 4,
 "nbformat_minor": 4
}
